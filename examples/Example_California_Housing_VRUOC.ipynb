{
 "cells": [
  {
   "cell_type": "markdown",
   "id": "d8013313",
   "metadata": {},
   "source": [
    "## GReaT Example with California Housing Dataset （dealing with VRUOC scenarios)"
   ]
  },
  {
   "cell_type": "markdown",
   "id": "55cc1a0f",
   "metadata": {},
   "source": [
    "First of all, let me make the new column of `cluster_string` with the string values indicating area clusters,  the corresponding index among those who shares the same `cluster_sring` values in column of `cluster_string_index`.\n",
    "There is also the count of the corresponding  `cluster_string` values in column of `cluster_string_count`, aswell as the sequential information of `cluster_string_index` to the game."
   ]
  },
  {
   "cell_type": "code",
   "execution_count": 1,
   "id": "77ce5045",
   "metadata": {},
   "outputs": [],
   "source": [
    "# create examples/cal_dataframe_area_clusters_in_letters_counted_indexed.csv\n",
    "!python area_cluster.py\n",
    "\n",
    "# create examples/test_complete.csv\n",
    "!python test_complete_creator.py"
   ]
  },
  {
   "cell_type": "code",
   "execution_count": 1,
   "id": "cb5ba9dc-4372-45ff-80bb-e63fa99e1aa5",
   "metadata": {},
   "outputs": [],
   "source": [
    "# Execute only once!\n",
    "import os\n",
    "import sys\n",
    "sys.path.append(\"..\")\n",
    "os.chdir(\"..\")\n",
    "\n",
    "os.environ[\"CUDA_VISIBLE_DEVICES\"]=\"6,7\" \n",
    "\n",
    "import numpy as np\n",
    "import pandas as pd\n",
    "from sklearn import datasets\n",
    "from examples.utils import set_logging_level\n",
    "from be_great import GReaT\n",
    "import matplotlib.pyplot as plt\n",
    "import logging\n",
    "logger = set_logging_level(logging.INFO)"
   ]
  },
  {
   "cell_type": "markdown",
   "id": "95782c58",
   "metadata": {},
   "source": [
    "### Load Data"
   ]
  },
  {
   "cell_type": "code",
   "execution_count": 3,
   "id": "3fe4f469",
   "metadata": {},
   "outputs": [],
   "source": [
    "## The authentic way to import the dataset of california housing csv\n",
    "# data = datasets.fetch_california_housing(as_frame=True).frame\n",
    "# data.head()\n",
    "### An easier alternative to import the same dataset under bad internet gateway situation.\n",
    "data = pd.read_csv('examples/cal_dataframe_area_clusters_in_letters_counted_indexed.csv')\n",
    "\n",
    "## sub-table to determine total amounts of a given cluster_string\n",
    "columns_to_select = [ 'cluster_string', 'cluster_string_count']\n",
    "data_sub = data[columns_to_select].drop_duplicates()\n"
   ]
  },
  {
   "cell_type": "markdown",
   "id": "39ff376c",
   "metadata": {},
   "source": [
    "### Enregister GReaT Model for two taskks on sub-table  and compelte table\n",
    "- task 1: sub-table is to dertimine the total amounts of a given cluster_string value.\n",
    "- task 2: complete table is to sample for a given row number of an input cluster_stirng value."
   ]
  },
  {
   "cell_type": "code",
   "execution_count": 14,
   "id": "ee720651",
   "metadata": {},
   "outputs": [],
   "source": [
    "great_sub = GReaT(\"../pretrainedModels_and_archivedFiles_and_stuffs/distilgpt2\", # Name of the large language model used (see HuggingFace for more options)\n",
    "              epochs=500,                             # Number of epochs to train (only one epoch for demonstration)\n",
    "              save_steps=2000,                      # Save model weights every x steps\n",
    "              logging_steps=50,                     # Log the loss and learning rate every x steps\n",
    "              experiment_dir=\"trainer_california_VRUOC_sub\",  # Name of the directory where all intermediate steps are saved\n",
    "              #lr_scheduler_type=\"constant\",        # Specify the learning rate scheduler \n",
    "              #learning_rate=5e-5                   # Set the inital learning rate\n",
    "             )"
   ]
  },
  {
   "cell_type": "code",
   "execution_count": 33,
   "id": "9b8992c4",
   "metadata": {},
   "outputs": [],
   "source": [
    "great = GReaT(\"../pretrainedModels_and_archivedFiles_and_stuffs/distilgpt2\", # Name of the large language model used (see HuggingFace for more options)\n",
    "              epochs=200,                             # Number of epochs to train (only one epoch for demonstration)\n",
    "              save_steps=2000,                      # Save model weights every x steps\n",
    "              logging_steps=50,                     # Log the loss and learning rate every x steps\n",
    "              experiment_dir=\"trainer_california_VRUOC_final\",  # Name of the directory where all intermediate steps are saved\n",
    "              #lr_scheduler_type=\"constant\",        # Specify the learning rate scheduler \n",
    "              #learning_rate=5e-5                   # Set the inital learning rate\n",
    "             )"
   ]
  },
  {
   "cell_type": "markdown",
   "id": "5b19304d",
   "metadata": {},
   "source": [
    "### Start Training: task 1"
   ]
  },
  {
   "cell_type": "code",
   "execution_count": 16,
   "id": "d7173938",
   "metadata": {
    "scrolled": true
   },
   "outputs": [
    {
     "name": "stderr",
     "output_type": "stream",
     "text": [
      "\u001b[39;20m2024-08-02 10:17:24,580 - INFO - Convert data into HuggingFace dataset object... (great.py:154)\u001b[0m\n",
      "\u001b[39;20m2024-08-02 10:17:24,598 - INFO - Create GReaT Trainer... (great.py:159)\u001b[0m\n"
     ]
    },
    {
     "name": "stderr",
     "output_type": "stream",
     "text": [
      "\u001b[33;20m2024-08-02 10:17:24,693 - WARNING - Detected kernel version 5.4.0, which is below the recommended minimum of 5.5.0; this can cause the process to hang. It is recommended to upgrade the kernel to the minimum version or higher. (other.py:349)\u001b[0m\n",
      "\u001b[39;20m2024-08-02 10:17:24,764 - INFO - Start training... (great.py:175)\u001b[0m\n",
      "You're using a GPT2TokenizerFast tokenizer. Please note that with a fast tokenizer, using the `__call__` method is faster than using a method to encode the text followed by a call to the `pad` method to get a padded encoding.\n",
      "/opt/conda/lib/python3.11/site-packages/torch/nn/parallel/_functions.py:68: UserWarning: Was asked to gather along dimension 0, but all input tensors were scalars; will instead unsqueeze and return a vector.\n",
      "  warnings.warn('Was asked to gather along dimension 0, but all '\n"
     ]
    },
    {
     "data": {
      "text/html": [
       "\n",
       "    <div>\n",
       "      \n",
       "      <progress value='2500' max='2500' style='width:300px; height:20px; vertical-align: middle;'></progress>\n",
       "      [2500/2500 03:54, Epoch 500/500]\n",
       "    </div>\n",
       "    <table border=\"1\" class=\"dataframe\">\n",
       "  <thead>\n",
       " <tr style=\"text-align: left;\">\n",
       "      <th>Step</th>\n",
       "      <th>Training Loss</th>\n",
       "    </tr>\n",
       "  </thead>\n",
       "  <tbody>\n",
       "    <tr>\n",
       "      <td>50</td>\n",
       "      <td>2.059700</td>\n",
       "    </tr>\n",
       "    <tr>\n",
       "      <td>100</td>\n",
       "      <td>1.109500</td>\n",
       "    </tr>\n",
       "    <tr>\n",
       "      <td>150</td>\n",
       "      <td>0.800100</td>\n",
       "    </tr>\n",
       "    <tr>\n",
       "      <td>200</td>\n",
       "      <td>0.655800</td>\n",
       "    </tr>\n",
       "    <tr>\n",
       "      <td>250</td>\n",
       "      <td>0.615700</td>\n",
       "    </tr>\n",
       "    <tr>\n",
       "      <td>300</td>\n",
       "      <td>0.587400</td>\n",
       "    </tr>\n",
       "    <tr>\n",
       "      <td>350</td>\n",
       "      <td>0.566300</td>\n",
       "    </tr>\n",
       "    <tr>\n",
       "      <td>400</td>\n",
       "      <td>0.553000</td>\n",
       "    </tr>\n",
       "    <tr>\n",
       "      <td>450</td>\n",
       "      <td>0.537100</td>\n",
       "    </tr>\n",
       "    <tr>\n",
       "      <td>500</td>\n",
       "      <td>0.514800</td>\n",
       "    </tr>\n",
       "    <tr>\n",
       "      <td>550</td>\n",
       "      <td>0.490900</td>\n",
       "    </tr>\n",
       "    <tr>\n",
       "      <td>600</td>\n",
       "      <td>0.464500</td>\n",
       "    </tr>\n",
       "    <tr>\n",
       "      <td>650</td>\n",
       "      <td>0.418100</td>\n",
       "    </tr>\n",
       "    <tr>\n",
       "      <td>700</td>\n",
       "      <td>0.387900</td>\n",
       "    </tr>\n",
       "    <tr>\n",
       "      <td>750</td>\n",
       "      <td>0.346000</td>\n",
       "    </tr>\n",
       "    <tr>\n",
       "      <td>800</td>\n",
       "      <td>0.317500</td>\n",
       "    </tr>\n",
       "    <tr>\n",
       "      <td>850</td>\n",
       "      <td>0.291500</td>\n",
       "    </tr>\n",
       "    <tr>\n",
       "      <td>900</td>\n",
       "      <td>0.282800</td>\n",
       "    </tr>\n",
       "    <tr>\n",
       "      <td>950</td>\n",
       "      <td>0.263600</td>\n",
       "    </tr>\n",
       "    <tr>\n",
       "      <td>1000</td>\n",
       "      <td>0.249900</td>\n",
       "    </tr>\n",
       "    <tr>\n",
       "      <td>1050</td>\n",
       "      <td>0.250200</td>\n",
       "    </tr>\n",
       "    <tr>\n",
       "      <td>1100</td>\n",
       "      <td>0.240400</td>\n",
       "    </tr>\n",
       "    <tr>\n",
       "      <td>1150</td>\n",
       "      <td>0.241700</td>\n",
       "    </tr>\n",
       "    <tr>\n",
       "      <td>1200</td>\n",
       "      <td>0.239800</td>\n",
       "    </tr>\n",
       "    <tr>\n",
       "      <td>1250</td>\n",
       "      <td>0.233800</td>\n",
       "    </tr>\n",
       "    <tr>\n",
       "      <td>1300</td>\n",
       "      <td>0.227800</td>\n",
       "    </tr>\n",
       "    <tr>\n",
       "      <td>1350</td>\n",
       "      <td>0.228100</td>\n",
       "    </tr>\n",
       "    <tr>\n",
       "      <td>1400</td>\n",
       "      <td>0.223800</td>\n",
       "    </tr>\n",
       "    <tr>\n",
       "      <td>1450</td>\n",
       "      <td>0.225200</td>\n",
       "    </tr>\n",
       "    <tr>\n",
       "      <td>1500</td>\n",
       "      <td>0.220600</td>\n",
       "    </tr>\n",
       "    <tr>\n",
       "      <td>1550</td>\n",
       "      <td>0.221400</td>\n",
       "    </tr>\n",
       "    <tr>\n",
       "      <td>1600</td>\n",
       "      <td>0.221600</td>\n",
       "    </tr>\n",
       "    <tr>\n",
       "      <td>1650</td>\n",
       "      <td>0.220200</td>\n",
       "    </tr>\n",
       "    <tr>\n",
       "      <td>1700</td>\n",
       "      <td>0.218200</td>\n",
       "    </tr>\n",
       "    <tr>\n",
       "      <td>1750</td>\n",
       "      <td>0.217100</td>\n",
       "    </tr>\n",
       "    <tr>\n",
       "      <td>1800</td>\n",
       "      <td>0.218600</td>\n",
       "    </tr>\n",
       "    <tr>\n",
       "      <td>1850</td>\n",
       "      <td>0.217700</td>\n",
       "    </tr>\n",
       "    <tr>\n",
       "      <td>1900</td>\n",
       "      <td>0.216000</td>\n",
       "    </tr>\n",
       "    <tr>\n",
       "      <td>1950</td>\n",
       "      <td>0.214200</td>\n",
       "    </tr>\n",
       "    <tr>\n",
       "      <td>2000</td>\n",
       "      <td>0.214200</td>\n",
       "    </tr>\n",
       "    <tr>\n",
       "      <td>2050</td>\n",
       "      <td>0.215600</td>\n",
       "    </tr>\n",
       "    <tr>\n",
       "      <td>2100</td>\n",
       "      <td>0.214400</td>\n",
       "    </tr>\n",
       "    <tr>\n",
       "      <td>2150</td>\n",
       "      <td>0.213500</td>\n",
       "    </tr>\n",
       "    <tr>\n",
       "      <td>2200</td>\n",
       "      <td>0.214300</td>\n",
       "    </tr>\n",
       "    <tr>\n",
       "      <td>2250</td>\n",
       "      <td>0.214400</td>\n",
       "    </tr>\n",
       "    <tr>\n",
       "      <td>2300</td>\n",
       "      <td>0.211600</td>\n",
       "    </tr>\n",
       "    <tr>\n",
       "      <td>2350</td>\n",
       "      <td>0.210900</td>\n",
       "    </tr>\n",
       "    <tr>\n",
       "      <td>2400</td>\n",
       "      <td>0.213900</td>\n",
       "    </tr>\n",
       "    <tr>\n",
       "      <td>2450</td>\n",
       "      <td>0.212100</td>\n",
       "    </tr>\n",
       "    <tr>\n",
       "      <td>2500</td>\n",
       "      <td>0.212600</td>\n",
       "    </tr>\n",
       "  </tbody>\n",
       "</table><p>"
      ],
      "text/plain": [
       "<IPython.core.display.HTML object>"
      ]
     },
     "metadata": {},
     "output_type": "display_data"
    },
    {
     "name": "stderr",
     "output_type": "stream",
     "text": [
      "/opt/conda/lib/python3.11/site-packages/torch/nn/parallel/_functions.py:68: UserWarning: Was asked to gather along dimension 0, but all input tensors were scalars; will instead unsqueeze and return a vector.\n",
      "  warnings.warn('Was asked to gather along dimension 0, but all '\n"
     ]
    }
   ],
   "source": [
    "trainer = great_sub.fit(data_sub) \n"
   ]
  },
  {
   "cell_type": "code",
   "execution_count": 17,
   "id": "d0554c36",
   "metadata": {},
   "outputs": [
    {
     "data": {
      "text/plain": [
       "{'train_runtime': 234.5908,\n",
       " 'train_samples_per_second': 159.853,\n",
       " 'train_steps_per_second': 10.657,\n",
       " 'total_flos': 275992651431936.0,\n",
       " 'train_loss': 0.3631283946990967,\n",
       " 'epoch': 500.0,\n",
       " 'step': 2500}"
      ]
     },
     "execution_count": 17,
     "metadata": {},
     "output_type": "execute_result"
    }
   ],
   "source": [
    "loss_hist = trainer.state.log_history.copy()\n",
    "loss_hist.pop()"
   ]
  },
  {
   "cell_type": "code",
   "execution_count": 18,
   "id": "ccc84e57",
   "metadata": {},
   "outputs": [
    {
     "data": {
      "text/plain": [
       "[<matplotlib.lines.Line2D at 0x7fc20c6c62d0>]"
      ]
     },
     "execution_count": 18,
     "metadata": {},
     "output_type": "execute_result"
    },
    {
     "data": {
      "image/png": "[encoded data removed]",
      "text/plain": [
       "<Figure size 640x480 with 1 Axes>"
      ]
     },
     "metadata": {},
     "output_type": "display_data"
    }
   ],
   "source": [
    "loss = [x[\"loss\"] for x in loss_hist]\n",
    "epochs = [x[\"epoch\"] for x in loss_hist]\n",
    "plt.plot(epochs, loss)"
   ]
  },
  {
   "cell_type": "markdown",
   "id": "744176a5",
   "metadata": {},
   "source": [
    "### Save Model: task 1"
   ]
  },
  {
   "cell_type": "code",
   "execution_count": 8,
   "id": "e7305e71",
   "metadata": {},
   "outputs": [],
   "source": [
    "great_sub.save(\"california_task1\")"
   ]
  },
  {
   "cell_type": "markdown",
   "id": "396c6731",
   "metadata": {},
   "source": [
    "### Load Model: task 1"
   ]
  },
  {
   "cell_type": "code",
   "execution_count": null,
   "id": "aa91661d",
   "metadata": {},
   "outputs": [],
   "source": [
    "# great_sub = GReaT.load_from_dir(\"california_task1\")"
   ]
  },
  {
   "cell_type": "markdown",
   "id": "5a9ca066",
   "metadata": {},
   "source": [
    "### Generate Samples: task 1"
   ]
  },
  {
   "cell_type": "code",
   "execution_count": 19,
   "id": "b62cfebf",
   "metadata": {},
   "outputs": [],
   "source": [
    "n_samples = 10\n",
    "samples = great_sub.sample(n_samples, k=5, device=\"cuda\")"
   ]
  },
  {
   "cell_type": "code",
   "execution_count": 32,
   "id": "dff8c01d",
   "metadata": {},
   "outputs": [
    {
     "data": {
      "text/html": [
       "<div>\n",
       "<style scoped>\n",
       "    .dataframe tbody tr th:only-of-type {\n",
       "        vertical-align: middle;\n",
       "    }\n",
       "\n",
       "    .dataframe tbody tr th {\n",
       "        vertical-align: top;\n",
       "    }\n",
       "\n",
       "    .dataframe thead th {\n",
       "        text-align: right;\n",
       "    }\n",
       "</style>\n",
       "<table border=\"1\" class=\"dataframe\">\n",
       "  <thead>\n",
       "    <tr style=\"text-align: right;\">\n",
       "      <th></th>\n",
       "      <th>cluster_string</th>\n",
       "      <th>cluster_string_count</th>\n",
       "    </tr>\n",
       "  </thead>\n",
       "  <tbody>\n",
       "    <tr>\n",
       "      <th>0</th>\n",
       "      <td>rzDyf</td>\n",
       "      <td>56.0</td>\n",
       "    </tr>\n",
       "    <tr>\n",
       "      <th>1</th>\n",
       "      <td>ZEKnV</td>\n",
       "      <td>452.0</td>\n",
       "    </tr>\n",
       "    <tr>\n",
       "      <th>2</th>\n",
       "      <td>QCBAm</td>\n",
       "      <td>205.0</td>\n",
       "    </tr>\n",
       "    <tr>\n",
       "      <th>3</th>\n",
       "      <td>PwBpw</td>\n",
       "      <td>102.0</td>\n",
       "    </tr>\n",
       "    <tr>\n",
       "      <th>4</th>\n",
       "      <td>ZDRiQ</td>\n",
       "      <td>452.0</td>\n",
       "    </tr>\n",
       "    <tr>\n",
       "      <th>5</th>\n",
       "      <td>XoMna</td>\n",
       "      <td>747.0</td>\n",
       "    </tr>\n",
       "    <tr>\n",
       "      <th>6</th>\n",
       "      <td>wEKno</td>\n",
       "      <td>443.0</td>\n",
       "    </tr>\n",
       "    <tr>\n",
       "      <th>7</th>\n",
       "      <td>psNks</td>\n",
       "      <td>210.0</td>\n",
       "    </tr>\n",
       "    <tr>\n",
       "      <th>8</th>\n",
       "      <td>mmcxF</td>\n",
       "      <td>31.0</td>\n",
       "    </tr>\n",
       "    <tr>\n",
       "      <th>9</th>\n",
       "      <td>OCiHi</td>\n",
       "      <td>1113.0</td>\n",
       "    </tr>\n",
       "  </tbody>\n",
       "</table>\n",
       "</div>"
      ],
      "text/plain": [
       "  cluster_string  cluster_string_count\n",
       "0          rzDyf                  56.0\n",
       "1          ZEKnV                 452.0\n",
       "2          QCBAm                 205.0\n",
       "3          PwBpw                 102.0\n",
       "4          ZDRiQ                 452.0\n",
       "5          XoMna                 747.0\n",
       "6          wEKno                 443.0\n",
       "7          psNks                 210.0\n",
       "8          mmcxF                  31.0\n",
       "9          OCiHi                1113.0"
      ]
     },
     "execution_count": 32,
     "metadata": {},
     "output_type": "execute_result"
    }
   ],
   "source": [
    "samples"
   ]
  },
  {
   "cell_type": "code",
   "execution_count": 24,
   "id": "cc77a5b5",
   "metadata": {},
   "outputs": [],
   "source": [
    "samples.to_csv(\"samples_task1.csv\")"
   ]
  },
  {
   "cell_type": "markdown",
   "id": "fbeb78a8",
   "metadata": {},
   "source": [
    "### determine the total amount of a new cluster_string value."
   ]
  },
  {
   "cell_type": "code",
   "execution_count": 31,
   "id": "2eac0b60",
   "metadata": {},
   "outputs": [
    {
     "name": "stderr",
     "output_type": "stream",
     "text": [
      "100%|██████████| 8/8 [00:00<00:00, 12.90it/s]\n"
     ]
    },
    {
     "data": {
      "text/html": [
       "<div>\n",
       "<style scoped>\n",
       "    .dataframe tbody tr th:only-of-type {\n",
       "        vertical-align: middle;\n",
       "    }\n",
       "\n",
       "    .dataframe tbody tr th {\n",
       "        vertical-align: top;\n",
       "    }\n",
       "\n",
       "    .dataframe thead th {\n",
       "        text-align: right;\n",
       "    }\n",
       "</style>\n",
       "<table border=\"1\" class=\"dataframe\">\n",
       "  <thead>\n",
       "    <tr style=\"text-align: right;\">\n",
       "      <th></th>\n",
       "      <th>cluster_string</th>\n",
       "      <th>cluster_string_count</th>\n",
       "    </tr>\n",
       "  </thead>\n",
       "  <tbody>\n",
       "    <tr>\n",
       "      <th>0</th>\n",
       "      <td>rzDye</td>\n",
       "      <td>56.0</td>\n",
       "    </tr>\n",
       "    <tr>\n",
       "      <th>1</th>\n",
       "      <td>ZaKnV</td>\n",
       "      <td>1077.0</td>\n",
       "    </tr>\n",
       "    <tr>\n",
       "      <th>2</th>\n",
       "      <td>QCBAm</td>\n",
       "      <td>205.0</td>\n",
       "    </tr>\n",
       "    <tr>\n",
       "      <th>3</th>\n",
       "      <td>PwBpw</td>\n",
       "      <td>102.0</td>\n",
       "    </tr>\n",
       "    <tr>\n",
       "      <th>4</th>\n",
       "      <td>ZDRiQ</td>\n",
       "      <td>452.0</td>\n",
       "    </tr>\n",
       "    <tr>\n",
       "      <th>5</th>\n",
       "      <td>XoMna</td>\n",
       "      <td>747.0</td>\n",
       "    </tr>\n",
       "    <tr>\n",
       "      <th>6</th>\n",
       "      <td>wEKno</td>\n",
       "      <td>443.0</td>\n",
       "    </tr>\n",
       "    <tr>\n",
       "      <th>7</th>\n",
       "      <td>pNks</td>\n",
       "      <td>210.0</td>\n",
       "    </tr>\n",
       "  </tbody>\n",
       "</table>\n",
       "</div>"
      ],
      "text/plain": [
       "  cluster_string  cluster_string_count\n",
       "0          rzDye                  56.0\n",
       "1          ZaKnV                1077.0\n",
       "2          QCBAm                 205.0\n",
       "3          PwBpw                 102.0\n",
       "4          ZDRiQ                 452.0\n",
       "5          XoMna                 747.0\n",
       "6          wEKno                 443.0\n",
       "7           pNks                 210.0"
      ]
     },
     "execution_count": 31,
     "metadata": {},
     "output_type": "execute_result"
    }
   ],
   "source": [
    "test_sub = pd.read_csv('test_task1.csv') # where there are some slight changes e.g. 'rzDye' is introduced though it is similar to 'rzDyf'.\n",
    "imputed_data = great_sub.impute(test_sub, max_length=200)\n",
    "imputed_data"
   ]
  },
  {
   "cell_type": "markdown",
   "id": "146b6410",
   "metadata": {},
   "source": [
    "As you can see the total amount result is similar to the original even the input cluster string is changed a little.\n",
    "Then with the amount given， sample from a complete table to fill a void table of row numbers being the obtained amount.\n",
    "We test'rzDye' to see its content."
   ]
  },
  {
   "cell_type": "markdown",
   "id": "75ae76ff",
   "metadata": {},
   "source": [
    "### Start Training: task 2."
   ]
  },
  {
   "cell_type": "code",
   "execution_count": null,
   "id": "727a6ed9",
   "metadata": {},
   "outputs": [],
   "source": [
    "trainer_complete = great.fit(data) \n"
   ]
  },
  {
   "cell_type": "code",
   "execution_count": null,
   "id": "967789ca",
   "metadata": {},
   "outputs": [],
   "source": [
    "loss_hist = trainer_complete.state.log_history.copy()\n",
    "loss_hist.pop()"
   ]
  },
  {
   "cell_type": "code",
   "execution_count": null,
   "id": "e86e1320",
   "metadata": {},
   "outputs": [],
   "source": [
    "loss = [x[\"loss\"] for x in loss_hist]\n",
    "epochs = [x[\"epoch\"] for x in loss_hist]\n",
    "plt.plot(epochs, loss)"
   ]
  },
  {
   "cell_type": "markdown",
   "id": "eaf089d1",
   "metadata": {},
   "source": [
    "### Save Model: task 2."
   ]
  },
  {
   "cell_type": "code",
   "execution_count": null,
   "id": "03ca2c0e",
   "metadata": {},
   "outputs": [],
   "source": [
    "great.save('calinfornia_task2')"
   ]
  },
  {
   "cell_type": "markdown",
   "id": "53e4b763",
   "metadata": {},
   "source": [
    "### Generate Samples: a test before task 2."
   ]
  },
  {
   "cell_type": "code",
   "execution_count": null,
   "id": "a5451dda",
   "metadata": {},
   "outputs": [],
   "source": [
    "n_samples = 1000\n",
    "samples = great.sample(n_samples, k=50, device=\"cuda\")\n",
    "samples"
   ]
  },
  {
   "cell_type": "code",
   "execution_count": null,
   "id": "edabfb77",
   "metadata": {},
   "outputs": [],
   "source": [
    "samples.to_csv(\"california_before_task2.csv\")"
   ]
  },
  {
   "cell_type": "markdown",
   "id": "6fcf7f1f",
   "metadata": {},
   "source": [
    "### Now, impute for task 2!"
   ]
  },
  {
   "cell_type": "code",
   "execution_count": null,
   "id": "8a9eebaf",
   "metadata": {},
   "outputs": [],
   "source": [
    "test_complete = pd.read_csv('examples/test_complete.csv') \n",
    "imputed_data = great.impute(test_complete, max_length=200)\n",
    "imputed_data"
   ]
  }
 ],
 "metadata": {
  "kernelspec": {
   "display_name": "Python 3 (ipykernel)",
   "language": "python",
   "name": "python3"
  },
  "language_info": {
   "codemirror_mode": {
    "name": "ipython",
    "version": 3
   },
   "file_extension": ".py",
   "mimetype": "text/x-python",
   "name": "python",
   "nbconvert_exporter": "python",
   "pygments_lexer": "ipython3",
   "version": "3.11.8"
  }
 },
 "nbformat": 4,
 "nbformat_minor": 5
}
